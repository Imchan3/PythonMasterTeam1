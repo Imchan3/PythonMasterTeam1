{
  "nbformat": 4,
  "nbformat_minor": 0,
  "metadata": {
    "colab": {
      "name": "반복문.ipynb",
      "provenance": [],
      "collapsed_sections": [
        "LtJN4uGFMUFz"
      ],
      "authorship_tag": "ABX9TyNosya0TT9WW1erknfm3KBA",
      "include_colab_link": true
    },
    "kernelspec": {
      "name": "python3",
      "display_name": "Python 3"
    },
    "language_info": {
      "name": "python"
    }
  },
  "cells": [
    {
      "cell_type": "markdown",
      "metadata": {
        "id": "view-in-github",
        "colab_type": "text"
      },
      "source": [
        "<a href=\"https://colab.research.google.com/github/Imchan3/PythonMasterTeam1/blob/main/%EB%B0%98%EB%B3%B5%EB%AC%B8.ipynb\" target=\"_parent\"><img src=\"https://colab.research.google.com/assets/colab-badge.svg\" alt=\"Open In Colab\"/></a>"
      ]
    },
    {
      "cell_type": "code",
      "source": [
        "!git clone https://github.com/Imchan3/PythonMasterTeam1.git"
      ],
      "metadata": {
        "colab": {
          "base_uri": "https://localhost:8080/"
        },
        "id": "JMObAuXuHtJU",
        "outputId": "94994456-e0de-41c7-8586-de25f4c6cd6e"
      },
      "execution_count": 1,
      "outputs": [
        {
          "output_type": "stream",
          "name": "stdout",
          "text": [
            "Cloning into 'PythonMasterTeam1'...\n",
            "remote: Enumerating objects: 57, done.\u001b[K\n",
            "remote: Counting objects: 100% (57/57), done.\u001b[K\n",
            "remote: Compressing objects: 100% (45/45), done.\u001b[K\n",
            "remote: Total 57 (delta 19), reused 0 (delta 0), pack-reused 0\u001b[K\n",
            "Unpacking objects: 100% (57/57), done.\n"
          ]
        }
      ]
    },
    {
      "cell_type": "markdown",
      "source": [
        "# 반복문\n",
        "\n",
        "반복되는 작업을 간단하게 처리하기 위한 기능\n",
        "\n"
      ],
      "metadata": {
        "id": "0GtDTogazTU6"
      }
    },
    {
      "cell_type": "markdown",
      "source": [
        "### for문"
      ],
      "metadata": {
        "id": "LtJN4uGFMUFz"
      }
    },
    {
      "cell_type": "code",
      "execution_count": null,
      "metadata": {
        "id": "wohhuLKKyhO6"
      },
      "outputs": [],
      "source": [
        "for 변수 in range(횟수):\n",
        "  반복할 코드"
      ]
    },
    {
      "cell_type": "markdown",
      "source": [
        "위와 같은방법으로 사용하면된다.\n",
        "\n",
        "range외에도 리스트, 튜플, 문자열 등을 써도 된다."
      ],
      "metadata": {
        "id": "TTLBl_c7Mm1S"
      }
    },
    {
      "cell_type": "code",
      "source": [
        "a = [10, 20, 30, 40, 50]\n",
        "for i in a:\n",
        "  print(i)"
      ],
      "metadata": {
        "id": "4Y-tYg3FSNqu"
      },
      "execution_count": null,
      "outputs": []
    },
    {
      "cell_type": "code",
      "source": [
        "fruits = ('apple', 'orange', 'grape')\n",
        "for fruit in fruits:\n",
        "  print(fruit)"
      ],
      "metadata": {
        "id": "Xd2XuV45SXHP"
      },
      "execution_count": null,
      "outputs": []
    },
    {
      "cell_type": "code",
      "source": [
        "for letter in 'Python':\n",
        "  print(letter, end=' ')"
      ],
      "metadata": {
        "id": "UwQ6FDhGSmh2"
      },
      "execution_count": null,
      "outputs": []
    },
    {
      "cell_type": "code",
      "source": [
        "for letter in 'Python':\n",
        "  print(letter, end=' ')"
      ],
      "metadata": {
        "id": "sRA59GH3S5bQ"
      },
      "execution_count": null,
      "outputs": []
    },
    {
      "cell_type": "code",
      "source": [
        "for i in range(100):\n",
        "  print('Hello, world!')"
      ],
      "metadata": {
        "id": "JLU7hWV0NEw8"
      },
      "execution_count": null,
      "outputs": []
    },
    {
      "cell_type": "code",
      "source": [
        "for i in range(100):\n",
        "  print('Hello, world!', i)"
      ],
      "metadata": {
        "id": "bFv1KsocOJ0q"
      },
      "execution_count": null,
      "outputs": []
    },
    {
      "cell_type": "markdown",
      "source": [
        "range로 시작하는 숫자와 끝나는 숫자도 지정이 가능하다"
      ],
      "metadata": {
        "id": "5qCi3ScYOYYe"
      }
    },
    {
      "cell_type": "code",
      "source": [
        "for i in range(5, 12):\n",
        "  print('Hello, world!', i)"
      ],
      "metadata": {
        "id": "OigJXKieOnfl"
      },
      "execution_count": null,
      "outputs": []
    },
    {
      "cell_type": "markdown",
      "source": [
        "위와 같이 range(시작, 끝)처럼 숫자를 지정해주면 된다.\n",
        "\n",
        "증가폭을 지정하는것도 가능하다."
      ],
      "metadata": {
        "id": "EfssAOlvOu4r"
      }
    },
    {
      "cell_type": "code",
      "source": [
        "for i in range(0, 10, 2):\n",
        "  print('Hello, world!',i)"
      ],
      "metadata": {
        "id": "35tWGhfyPEuF"
      },
      "execution_count": null,
      "outputs": []
    },
    {
      "cell_type": "markdown",
      "source": [
        "위의 코드처럼 range(시작, 끝, 증가폭)으로 작성하면 된다.\n"
      ],
      "metadata": {
        "id": "xOYWSqbePMeE"
      }
    },
    {
      "cell_type": "code",
      "source": [
        "for i in range(10, 0, -3):\n",
        "  print('Hello, world!', i)"
      ],
      "metadata": {
        "id": "L0y7YndgQJTf"
      },
      "execution_count": null,
      "outputs": []
    },
    {
      "cell_type": "markdown",
      "source": [
        "시작과 끝의 숫자를 바꿔주고 증가폭만 음수로 지정하면 된다.\n",
        "\n",
        "증가폭을 음수로 지정하지않고 reversed를 사용하면 숫자의 순서를 반대로 뒤집을 수 있다."
      ],
      "metadata": {
        "id": "hxAMOhgTQTO5"
      }
    },
    {
      "cell_type": "code",
      "source": [
        "for i in reversed(range(10)):\n",
        "  print('Hello, world!', i)"
      ],
      "metadata": {
        "id": "2DywTeT-Qz5v"
      },
      "execution_count": null,
      "outputs": []
    },
    {
      "cell_type": "markdown",
      "source": [
        "range밖에 reversed만 써주면 똑같이 사용이 가능하다."
      ],
      "metadata": {
        "id": "uFAnNYnQQ-uB"
      }
    },
    {
      "cell_type": "code",
      "source": [
        "count = int(input('반복할 횟수를 입력하세요: '))\n",
        "\n",
        "for i in range(count):\n",
        "  print('Hello, world!', i)"
      ],
      "metadata": {
        "id": "W0SnQ7tHRcl2"
      },
      "execution_count": null,
      "outputs": []
    },
    {
      "cell_type": "markdown",
      "source": [
        "### while문"
      ],
      "metadata": {
        "id": "ENSKVIDqTW_6"
      }
    },
    {
      "cell_type": "code",
      "source": [
        "초기식                 \n",
        "while 조건문:\n",
        "  반복할 코드\n",
        "  변화식                "
      ],
      "metadata": {
        "id": "uDNnLnZvTeCz"
      },
      "execution_count": null,
      "outputs": []
    },
    {
      "cell_type": "markdown",
      "source": [
        "while문은 조건식을 판별하여 참이면 코드를 실행하고 거짓이면 반복문을 끝낸다."
      ],
      "metadata": {
        "id": "qOrQ5HLwUCZH"
      }
    },
    {
      "cell_type": "code",
      "source": [
        "i = 0\n",
        "while i < 100:\n",
        "  print('Hello, world!')\n",
        "  i += 1"
      ],
      "metadata": {
        "id": "BxHhu2G3Uc9l"
      },
      "execution_count": null,
      "outputs": []
    },
    {
      "cell_type": "markdown",
      "source": [
        "변화식을 쓰지 않아도 코드는 돌아가지만 무한루프에 빠지기 때문에 주의해야된다."
      ],
      "metadata": {
        "id": "UHtWi3PjUqh4"
      }
    },
    {
      "cell_type": "code",
      "source": [
        "i = 1\n",
        "while i <= 100:\n",
        "  print('Hello, world!', i)\n",
        "  i += 1"
      ],
      "metadata": {
        "id": "H5-7Ts5MU7v1"
      },
      "execution_count": null,
      "outputs": []
    },
    {
      "cell_type": "code",
      "source": [
        "i = 100\n",
        "while i > 0:\n",
        "  print('Hello, world!', i)\n",
        "  i -= 1"
      ],
      "metadata": {
        "id": "nij967eOVNzf"
      },
      "execution_count": null,
      "outputs": []
    },
    {
      "cell_type": "code",
      "source": [
        "count = int(input('반복할 횟수를 입력하세요: '))\n",
        "\n",
        "i = 0\n",
        "while i < count:\n",
        "  print('Hello, world!',i)\n",
        "  i += 1"
      ],
      "metadata": {
        "id": "ZRn0EOaAVYBv"
      },
      "execution_count": null,
      "outputs": []
    },
    {
      "cell_type": "code",
      "source": [
        "count = int(input('반복할 횟수를 입력하세요: '))\n",
        "\n",
        "while count > 0:\n",
        "  print('Hello, world!', count)\n",
        "  count -= 1"
      ],
      "metadata": {
        "id": "9ysGVbEXVyva"
      },
      "execution_count": null,
      "outputs": []
    },
    {
      "cell_type": "code",
      "source": [
        "import random\n",
        "\n",
        "i = 0\n",
        "while i != 3:\n",
        "  i = random.randint(1, 6)\n",
        "  print(i)"
      ],
      "metadata": {
        "id": "tw8NYnKQWG0N"
      },
      "execution_count": null,
      "outputs": []
    },
    {
      "cell_type": "code",
      "source": [
        "while True:\n",
        "  print('Hello, world!')"
      ],
      "metadata": {
        "id": "tB5V9Gb_WiyO"
      },
      "execution_count": null,
      "outputs": []
    },
    {
      "cell_type": "code",
      "source": [
        "while 1:\n",
        "  print('Hello, world!')"
      ],
      "metadata": {
        "id": "6ik707gbWqZ1"
      },
      "execution_count": null,
      "outputs": []
    },
    {
      "cell_type": "code",
      "source": [
        "while 'Hello':\n",
        "  print('Hello, world')"
      ],
      "metadata": {
        "id": "XFVw_5jbWuEV"
      },
      "execution_count": null,
      "outputs": []
    },
    {
      "cell_type": "markdown",
      "source": [
        "for문과 while문의 차이\n",
        "\n",
        "for문은 반복할 횟수가 정해져 있을 때 사용하고\n",
        "while문은 반복할 횟수가 정해져 있지 않을 때 사용한다.\n",
        "\n",
        "들여쓰기에 주의해야한다."
      ],
      "metadata": {
        "id": "8JBXsr_SW809"
      }
    },
    {
      "cell_type": "markdown",
      "source": [
        "### break, continue\n",
        "\n",
        "break: 제어흐름 중단\n",
        "continue: 제어흐름 유지, 코드 실행만 건너뜀"
      ],
      "metadata": {
        "id": "3U_fCROiXs_P"
      }
    },
    {
      "cell_type": "code",
      "source": [
        "i = 0\n",
        "while True:\n",
        "  print(i)\n",
        "  i += 1\n",
        "  if i == 100:\n",
        "    break"
      ],
      "metadata": {
        "id": "bT_LbNaVX7ml"
      },
      "execution_count": null,
      "outputs": []
    },
    {
      "cell_type": "code",
      "source": [
        "for i in range(10000):\n",
        "  print(i)\n",
        "  if i == 100:\n",
        "    break"
      ],
      "metadata": {
        "id": "Iz8M5XqDYFRb"
      },
      "execution_count": null,
      "outputs": []
    },
    {
      "cell_type": "code",
      "source": [
        "for i in range(100):\n",
        "  if i % 2 == 0:\n",
        "    continue\n",
        "  print(i)"
      ],
      "metadata": {
        "id": "2zNS3E7fYMUI"
      },
      "execution_count": null,
      "outputs": []
    },
    {
      "cell_type": "code",
      "source": [
        "i = 0\n",
        "while i < 100:\n",
        "  i += 1\n",
        "  if i % 2 == 0:\n",
        "    continue\n",
        "  print(i)"
      ],
      "metadata": {
        "id": "Gkw0hhdKYZJ4"
      },
      "execution_count": null,
      "outputs": []
    },
    {
      "cell_type": "code",
      "source": [
        "count = int(input('반복할 횟수를 입력하세요: '))\n",
        " \n",
        "i = 0\n",
        "while True:\n",
        "    print(i)\n",
        "    i += 1\n",
        "    if i == count:\n",
        "        break"
      ],
      "metadata": {
        "id": "2pj56KBXZNM7"
      },
      "execution_count": null,
      "outputs": []
    },
    {
      "cell_type": "code",
      "source": [
        "count = int(input('반복할 횟수를 입력하세요: '))\n",
        "\n",
        "for i in range(count + 1):\n",
        "  if i % 2 == 0:\n",
        "    continue\n",
        "  print(i)"
      ],
      "metadata": {
        "id": "F8QPkk-YZXRX"
      },
      "execution_count": null,
      "outputs": []
    }
  ]
}